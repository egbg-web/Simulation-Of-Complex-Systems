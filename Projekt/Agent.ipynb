{
 "cells": [
  {
   "cell_type": "code",
   "execution_count": null,
   "metadata": {},
   "outputs": [],
   "source": [
    "import Parameters as par\n",
    "\n",
    "import random\n",
    "import numpy as np\n",
    "\n",
    "\n",
    "class Agent:\n",
    "\n",
    "    def __init__(self, x0, y0, health):\n",
    "        self.x = x0\n",
    "        self.y = y0\n",
    "        self.health = health\n",
    "        self.time_to_symptomatic = None\n",
    "        self.symptomatic = False\n",
    "\n",
    "    # Random move\n",
    "    def move(self):\n",
    "        done = False\n",
    "\n",
    "        while not done:\n",
    "            direction = random.randint(1, 4)\n",
    "\n",
    "            if direction == 1 and not self.x == 0:\n",
    "                self.x = self.x - 1\n",
    "                done = True\n",
    "            elif direction == 2 and not self.y == 0:\n",
    "                self.y = self.y - 1\n",
    "                done = True\n",
    "            elif direction == 3 and not self.x == par.dimension - 1:\n",
    "                self.x = self.x + 1\n",
    "                done = True\n",
    "            elif direction == 4 and not self.y == par.dimension - 1:\n",
    "                self.y = self.y + 1\n",
    "                done = True\n",
    "\n",
    "    def get_position(self):\n",
    "        return tuple([self.x, self.y])\n",
    "\n",
    "    def get_health(self):\n",
    "        return self.health\n",
    "\n",
    "    def recover(self):\n",
    "        self.health = 'r'\n",
    "\n",
    "    def infect(self, time_step):\n",
    "        self.health = 'i'\n",
    "        incubation_time = par.mean_incubation_time + 10 * np.random.normal() + 1\n",
    "        if incubation_time < 1:\n",
    "            incubation_time = 1\n",
    "        self.time_to_symptomatic = time_step + incubation_time\n",
    "\n",
    "    def is_symptomatic(self, time_step):\n",
    "        if not self.symptomatic or self.time_to_symptomatic <= time_step:\n",
    "            self.symptomatic = True\n",
    "        return self.symptomatic"
   ]
  }
 ],
 "metadata": {
  "kernelspec": {
   "display_name": "Python 3",
   "language": "python",
   "name": "python3"
  },
  "language_info": {
   "codemirror_mode": {
    "name": "ipython",
    "version": 3
   },
   "file_extension": ".py",
   "mimetype": "text/x-python",
   "name": "python",
   "nbconvert_exporter": "python",
   "pygments_lexer": "ipython3",
   "version": "3.7.3"
  }
 },
 "nbformat": 4,
 "nbformat_minor": 2
}
