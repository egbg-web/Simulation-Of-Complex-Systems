{
 "cells": [
  {
   "cell_type": "code",
   "execution_count": null,
   "metadata": {},
   "outputs": [],
   "source": [
    "# Population density: 55 per km^2,\n",
    "# according to world population and Earth's land area excluding Antarctica\n",
    "dimension = 50          # Dimension of environment\n",
    "N = 2000                # Population size\n",
    "\n",
    "d = 0.8                 # Probability of movement\n",
    "d_zombie = 1            # Probability of movement, during incubation time, zombie\n",
    "d_dying = 0.4           # Probability of movement, when symptomatic, dying\n",
    "\n",
    "mean_incubation_time = 3\n",
    "day_time = 600 \n",
    "night_time= 400\n",
    "\n",
    "beta = 0.6              # Infection rate\n",
    "gamma = 0.01            # Recovery rate\n",
    "delta = 0.01            # Death rate\n"
   ]
  }
 ],
 "metadata": {
  "kernelspec": {
   "display_name": "Python 3",
   "language": "python",
   "name": "python3"
  },
  "language_info": {
   "codemirror_mode": {
    "name": "ipython",
    "version": 3
   },
   "file_extension": ".py",
   "mimetype": "text/x-python",
   "name": "python",
   "nbconvert_exporter": "python",
   "pygments_lexer": "ipython3",
   "version": "3.7.3"
  }
 },
 "nbformat": 4,
 "nbformat_minor": 2
}
